{
 "cells": [
  {
   "cell_type": "code",
   "execution_count": 6,
   "metadata": {},
   "outputs": [
    {
     "name": "stdout",
     "output_type": "stream",
     "text": [
      "The autoreload extension is already loaded. To reload it, use:\n",
      "  %reload_ext autoreload\n",
      "07_05_24\n"
     ]
    },
    {
     "name": "stderr",
     "output_type": "stream",
     "text": [
      "c:\\Users\\samuel.taylor\\OneDrive - Green Dot Public Schools\\Desktop\\Git_Directory\\ELPAC_SBAC_results_selenium\\modules\\sql_query_module.py:31: UserWarning: pandas only supports SQLAlchemy connectable (engine/connection) or database string URI or sqlite3 DBAPI2 connection. Other DBAPI2 objects are not tested. Please consider using SQLAlchemy.\n",
      "  df_SQL = pd.read_sql_query(query, con = conn)\n",
      "c:\\Users\\samuel.taylor\\OneDrive - Green Dot Public Schools\\Desktop\\Git_Directory\\ELPAC_SBAC_results_selenium\\modules\\sql_query_module.py:31: UserWarning: pandas only supports SQLAlchemy connectable (engine/connection) or database string URI or sqlite3 DBAPI2 connection. Other DBAPI2 objects are not tested. Please consider using SQLAlchemy.\n",
      "  df_SQL = pd.read_sql_query(query, con = conn)\n",
      "c:\\Users\\samuel.taylor\\OneDrive - Green Dot Public Schools\\Desktop\\Git_Directory\\ELPAC_SBAC_results_selenium\\modules\\sql_query_module.py:31: UserWarning: pandas only supports SQLAlchemy connectable (engine/connection) or database string URI or sqlite3 DBAPI2 connection. Other DBAPI2 objects are not tested. Please consider using SQLAlchemy.\n",
      "  df_SQL = pd.read_sql_query(query, con = conn)\n",
      "c:\\Users\\samuel.taylor\\OneDrive - Green Dot Public Schools\\Desktop\\Git_Directory\\ELPAC_SBAC_results_selenium\\modules\\sql_query_module.py:31: UserWarning: pandas only supports SQLAlchemy connectable (engine/connection) or database string URI or sqlite3 DBAPI2 connection. Other DBAPI2 objects are not tested. Please consider using SQLAlchemy.\n",
      "  df_SQL = pd.read_sql_query(query, con = conn)\n"
     ]
    }
   ],
   "source": [
    "%load_ext autoreload\n",
    "%autoreload 2\n",
    "from config import username, password\n",
    "from modules.login_module import *\n",
    "from modules.download_files_module import *\n",
    "from modules.unit_testing import TestFileProcessing\n",
    "from modules.data_transformation import *\n",
    "from modules.post_download_change import *\n",
    "from modules.sql_query_module import *\n",
    "from modules.creating_subscores_cast import *\n",
    "from modules.creating_subscores_math import *\n",
    "from modules.creating_subscores_ela import *\n",
    "\n",
    "import os\n",
    "import pandas as pd\n",
    "import logging\n",
    "import time\n",
    "from datetime import datetime\n",
    "from modules.sql_query_module import SQL_query\n",
    "import urllib\n",
    "import sqlalchemy\n",
    "import warnings\n",
    "warnings.simplefilter(action='ignore', category=FutureWarning)\n",
    "today_date = datetime.now()\n",
    "formatted_month_day_year = today_date.strftime(\"%m_%d_%y\")\n",
    "print(formatted_month_day_year)\n",
    "formatted_month_day_year = '06_18_24' #hardcoded for last day of downloads. \n",
    "\n",
    "download_directory = os.getcwd() + f'\\\\file_downloads\\\\elpac\\\\{formatted_month_day_year}'\n",
    "pd.set_option('display.max_columns', None)\n",
    "\n",
    "logging.basicConfig(filename='ELPAC_SBAC_results.log', level=logging.INFO,\n",
    "                   format='%(asctime)s - %(message)s', datefmt='%d-%b-%y %H:%M:%S',force=True)\n",
    "logging.info('\\n\\n-------------ELPAC_SBAC_results new instance log')\n",
    "\n",
    "# ---------------------------------POST SELENIUM PROCESS, STACKING & SENDING FILES----------------------------------\n",
    "#Assumes files are downloaded & unzipped for the day\n",
    "sbac_pdrive_dir = fr'P:\\Knowledge Management\\Ellevation\\Data Sent 2023-24\\State Testing\\sbac_{formatted_month_day_year}'\n",
    "elpac_pdrive_dir = fr'P:\\Knowledge Management\\Ellevation\\Data Sent 2023-24\\State Testing\\elpac_{formatted_month_day_year}'\n",
    "\n",
    "sbac_stack = stack_files(sbac_pdrive_dir, 'CAASPP') #This is where files are raw and stacked before transformation\n",
    "elpac_stack = stack_files(elpac_pdrive_dir, 'ELPAC') #Green Dot Schools are pulled out of master file\n",
    "\n",
    "elpac_stack = filter_on_full_cds_code(elpac_stack, 'CALPADSSchoolCode')\n",
    "sbac_stack = filter_on_full_cds_code(sbac_stack, 'CALPADSSchoolCode')\n",
    "\n",
    "\n",
    "c = get_cast_subscores(sbac_stack, 'CAST')\n",
    "rw = get_ela_subscores_read_write(sbac_stack, 'SBAC')\n",
    "es = get_ela_subscores_essay(sbac_stack, 'SBAC')\n",
    "m = get_math_subscores_concepts_communicating(sbac_stack, 'SBAC') \n",
    "df = pd.concat([c, rw, es, m], ignore_index=True)\n",
    "\n",
    "\n",
    "#CHECKS\n",
    "#Can do df.groupby('SSID').size().unique() for Student Level Unit Tests\n",
    "# s = sbac_stack[['SSID', 'RecordType','SmarterCompClaim1Score', 'SmarterCompClaim1PL', 'SmarterCompClaim2Score','SmarterCompClaim2PL', 'WERDEVEEL', 'WERCOV', 'WERPOR','Domain1Level', 'Domain2Level', 'Domain3Level' ]]\n",
    "# s.loc[s['SSID'] == \t5403504677]"
   ]
  },
  {
   "cell_type": "markdown",
   "metadata": {},
   "source": [
    "# Changes \n",
    "\n",
    "- Map is as Essay if it is a blank - done\n",
    "- Pull in TestGradeLevel - done\n",
    "- Put in ProficiencyLevelCode for everything - done for all"
   ]
  },
  {
   "cell_type": "code",
   "execution_count": null,
   "metadata": {},
   "outputs": [],
   "source": [
    "\n",
    "def send_to_sql(frame, file_name):\n",
    "\n",
    "    dtypes, table_cols = SQL_query.get_dtypes(frame, 'DataTeamSandbox', f'{file_name}_Subscores')\n",
    "    \n",
    "    #Update the master table with a full replace, after assessing todays incoming records by each table\n",
    "    try:\n",
    "        frame.to_sql(f'{file_name}_Subscores', schema='dbo', con = SQL_query.engine, if_exists = 'replace', index = False, dtype=dtypes)\n",
    "        logging.info(f\"Sent data - {len(frame)} records to master table {file_name}_Scores\")\n",
    "    except Exception as e:\n",
    "        logging.info(f'Unable to send data to {file_name}_Scores due to \\n {e}')\n",
    "\n",
    "\n",
    "send_to_sql(df, 'SBAC')"
   ]
  }
 ],
 "metadata": {
  "kernelspec": {
   "display_name": "Python 3",
   "language": "python",
   "name": "python3"
  },
  "language_info": {
   "codemirror_mode": {
    "name": "ipython",
    "version": 3
   },
   "file_extension": ".py",
   "mimetype": "text/x-python",
   "name": "python",
   "nbconvert_exporter": "python",
   "pygments_lexer": "ipython3",
   "version": "3.9.7"
  }
 },
 "nbformat": 4,
 "nbformat_minor": 2
}
